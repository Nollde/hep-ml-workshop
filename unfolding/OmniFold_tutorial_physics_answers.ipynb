{
 "cells": [
  {
   "cell_type": "code",
   "execution_count": null,
   "id": "5f734754-245c-40d5-8338-3df24d9f771c",
   "metadata": {
    "tags": []
   },
   "outputs": [],
   "source": [
    "import numpy as np\n",
    "import h5py as h5\n",
    "from matplotlib import pyplot as plt\n",
    "import tensorflow as tf\n",
    "import os"
   ]
  },
  {
   "cell_type": "code",
   "execution_count": null,
   "id": "72727dfa-a601-4bc4-a642-38ed7b66ad49",
   "metadata": {
    "tags": []
   },
   "outputs": [],
   "source": [
    "from omnifold import DataLoader, MultiFold, MLP, SetStyle, HistRoutine"
   ]
  },
  {
   "cell_type": "code",
   "execution_count": null,
   "id": "26e15222-6b9d-4e5d-b8cc-c168f059d630",
   "metadata": {
    "tags": []
   },
   "outputs": [],
   "source": [
    "data_path = '/global/cfs/cdirs/ntrain1/unfolding'"
   ]
  },
  {
   "cell_type": "code",
   "execution_count": null,
   "id": "9159ac8c-5a90-4da2-b813-0df79093d975",
   "metadata": {
    "tags": []
   },
   "outputs": [],
   "source": [
    "nevts = 100_000\n",
    "gen_data = h5.File(os.path.join(data_path,'train_herwig.h5'))['gen_subs'][:nevts]\n",
    "reco_data = h5.File(os.path.join(data_path,'train_herwig.h5'))['reco_subs'][:nevts]\n",
    "gen_mc = h5.File(os.path.join(data_path,'train_pythia.h5'))['gen_subs'][:nevts]\n",
    "reco_mc = h5.File(os.path.join(data_path,'train_pythia.h5'))['reco_subs'][:nevts]\n",
    "\n",
    "data = DataLoader(reco = reco_data,normalize=True)\n",
    "mc = DataLoader(reco = reco_mc,gen = gen_mc,normalize=True)"
   ]
  },
  {
   "cell_type": "markdown",
   "id": "7ceb2afe-6797-4cf5-96d6-a7106426a7cf",
   "metadata": {},
   "source": [
    "## Let's take a quick look at the data"
   ]
  },
  {
   "cell_type": "code",
   "execution_count": null,
   "id": "01f553b1-145c-485d-857a-bc79d884698d",
   "metadata": {
    "tags": []
   },
   "outputs": [],
   "source": [
    "SetStyle()"
   ]
  },
  {
   "cell_type": "code",
   "execution_count": null,
   "id": "f395af43-5dcf-4f47-9f09-e414f4816f7d",
   "metadata": {
    "tags": []
   },
   "outputs": [],
   "source": [
    "var_names = [\"Jet Mass [GeV]\",\"Jet Width\", \"$n_{constituents}$\",r\"$ln\\rho$\",\"$z_g$\",r\"$\\tau_{21}$\"]\n",
    "nbins = 50\n",
    "binning = [\n",
    "        np.linspace(0,75,nbins),\n",
    "        np.linspace(0,0.6,nbins),\n",
    "        np.linspace(0,80,80),\n",
    "        np.linspace(-14,-2,nbins),\n",
    "        np.linspace(0.0,0.5,nbins),\n",
    "        np.linspace(0.0,1.2,nbins),\n",
    "    ]"
   ]
  },
  {
   "cell_type": "code",
   "execution_count": null,
   "id": "7d413915-9e88-4250-8aeb-159ca2763f43",
   "metadata": {},
   "outputs": [],
   "source": [
    "for iv, var in enumerate(var_names):\n",
    "    data_dict = {\n",
    "    'gen_data': gen_data[:,iv],\n",
    "    'reco_data': reco_data[:,iv],\n",
    "    'gen_mc': gen_mc[:,iv],\n",
    "    'reco_mc': reco_mc[:,iv],\n",
    "    }\n",
    "    HistRoutine(data_dict,var, reference_name = 'gen_data',plot_ratio=False,binning=binning[iv])"
   ]
  },
  {
   "cell_type": "markdown",
   "id": "fe550e6e-4805-4a7e-8f2d-5305bbd9c4d3",
   "metadata": {},
   "source": [
    "## Let's now create the neural network models we are going to use to model the weight distributions"
   ]
  },
  {
   "cell_type": "code",
   "execution_count": null,
   "id": "e8af2728-94ac-44cc-a9b4-6b3293816c26",
   "metadata": {
    "tags": []
   },
   "outputs": [],
   "source": [
    "ndim = len(var_names)\n",
    "model1 = MLP(ndim)\n",
    "model2 = MLP(ndim)"
   ]
  },
  {
   "cell_type": "code",
   "execution_count": null,
   "id": "39161772-1911-4f5d-8f30-3c4f52214ba7",
   "metadata": {
    "tags": []
   },
   "outputs": [],
   "source": [
    "print(model1.summary())"
   ]
  },
  {
   "cell_type": "markdown",
   "id": "62307a13-3cda-4c3e-957a-5a92fdb61bde",
   "metadata": {},
   "source": [
    "## Let's Unfold!"
   ]
  },
  {
   "cell_type": "code",
   "execution_count": null,
   "id": "d9d7b21f-93fd-4336-a690-97906671ba04",
   "metadata": {
    "tags": []
   },
   "outputs": [],
   "source": [
    "omnifold = MultiFold(\n",
    "    \"ZJets\",\n",
    "    model1,\n",
    "    model2,\n",
    "    data,\n",
    "    mc,\n",
    "    batch_size = 1024,\n",
    "    niter = 1,  #Number of Iterations                                                                                                                                                                                                  \n",
    "    epochs=10,      \n",
    "    weights_folder = 'weights',\n",
    "    verbose=True,\n",
    ")"
   ]
  },
  {
   "cell_type": "code",
   "execution_count": null,
   "id": "161bfb44-377e-4f7e-b95f-a7b0f55a4ba0",
   "metadata": {
    "tags": []
   },
   "outputs": [],
   "source": [
    "omnifold.Preprocessing()\n",
    "omnifold.Unfold()"
   ]
  },
  {
   "cell_type": "markdown",
   "id": "805dd506-a22f-4874-b4f2-fb35a6f69418",
   "metadata": {},
   "source": [
    "## Now, let's evaluate the model!"
   ]
  },
  {
   "cell_type": "code",
   "execution_count": null,
   "id": "697cf384-0030-4dba-813d-504623ee8339",
   "metadata": {
    "tags": []
   },
   "outputs": [],
   "source": [
    "validation_data = h5.File(os.path.join(data_path,'test_herwig.h5'))['gen_subs'][:]\n",
    "unfolded_weights  = omnifold.reweight(validation_data,omnifold.model2,batch_size=1000)   "
   ]
  },
  {
   "cell_type": "markdown",
   "id": "67eb2a33-f5dc-4479-8549-aa707db118a1",
   "metadata": {},
   "source": [
    "## More plots!"
   ]
  },
  {
   "cell_type": "code",
   "execution_count": null,
   "id": "b47afa7f-f48d-4e4d-9f06-30014f5e55f6",
   "metadata": {
    "tags": []
   },
   "outputs": [],
   "source": [
    "for iv, var in enumerate(var_names):\n",
    "    data_dict = {\n",
    "    'gen_data': gen_data[:,iv],\n",
    "    'reco_data': reco_data[:,iv],\n",
    "    'gen_mc': gen_mc[:,iv],\n",
    "    'reco_mc': reco_mc[:,iv],\n",
    "    'unfolded': gen_mc[:,iv],\n",
    "    }\n",
    "    weight_dict = {\n",
    "    'gen_data': data.weight,\n",
    "    'reco_data': data.weight,\n",
    "    'gen_mc': mc.weight,\n",
    "    'reco_mc': mc.weight,\n",
    "    'unfolded': unfolded_weights,\n",
    "    }\n",
    "    HistRoutine(data_dict,var, reference_name = 'gen_data',binning=binning[iv])"
   ]
  },
  {
   "cell_type": "markdown",
   "id": "7f8de1d0-5a42-48b6-9734-c625b6dc5823",
   "metadata": {},
   "source": [
    "# Exercises"
   ]
  },
  {
   "cell_type": "markdown",
   "id": "c888d436-0d2a-4c84-a9b6-b8da33e44c88",
   "metadata": {},
   "source": [
    "## The unfolded distribution looks good, but not quite there yet. Try changing: \n",
    "* The number of OmniFold iterations\n",
    "* The number of training epochs"
   ]
  },
  {
   "cell_type": "markdown",
   "id": "7cffd614-36f1-4cee-ab44-9da90ca333a6",
   "metadata": {},
   "source": [
    "## We use $ln\\rho$ as one of the inputs, how does the plot for $\\rho$ alone looks like?"
   ]
  },
  {
   "cell_type": "code",
   "execution_count": null,
   "id": "a56bef17-0d74-454c-ae76-9ade47e69991",
   "metadata": {
    "tags": []
   },
   "outputs": [],
   "source": []
  },
  {
   "cell_type": "markdown",
   "id": "dae38f3d-d073-4c3d-9b3f-8258d25bebbd",
   "metadata": {},
   "source": [
    "## Let's create a new observable: Jet mass / Jet width. How does that distribution looks like for the unfolded events?"
   ]
  },
  {
   "cell_type": "code",
   "execution_count": null,
   "id": "c26ac6f7-8e40-4649-b0e9-2b34791c8b63",
   "metadata": {
    "tags": []
   },
   "outputs": [],
   "source": []
  },
  {
   "cell_type": "code",
   "execution_count": null,
   "id": "5fb2a521-cec9-4c34-b9d3-60ffb221dcd8",
   "metadata": {},
   "outputs": [],
   "source": []
  }
 ],
 "metadata": {
  "kernelspec": {
   "display_name": "tensorflow-2.9.0",
   "language": "python",
   "name": "tensorflow-2.9.0"
  },
  "language_info": {
   "codemirror_mode": {
    "name": "ipython",
    "version": 3
   },
   "file_extension": ".py",
   "mimetype": "text/x-python",
   "name": "python",
   "nbconvert_exporter": "python",
   "pygments_lexer": "ipython3",
   "version": "3.9.19"
  }
 },
 "nbformat": 4,
 "nbformat_minor": 5
}
