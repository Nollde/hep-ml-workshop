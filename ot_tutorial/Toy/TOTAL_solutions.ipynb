{
 "cells": [
  {
   "cell_type": "markdown",
   "id": "534b90b5-411d-4e3e-bc30-ac7f826780ce",
   "metadata": {},
   "source": [
    "# Tutorial: Optimal Transport Pileup Mitigation for Hadron Colliders"
   ]
  },
  {
   "cell_type": "markdown",
   "id": "00f0a346-3099-4176-bcaf-7a5196d51b46",
   "metadata": {},
   "source": [
    "Author: Nathan Suri\\\n",
    "Date: 8/15/24\\\n",
    "Description: In this tutorial, we will cover the basics of the Training Optimal Transport for Attention Learning (TOTAL) methodology and its application to the pileup mitigation."
   ]
  },
  {
   "cell_type": "code",
   "execution_count": 131,
   "id": "31028236-bce2-452f-8c24-51005b10d225",
   "metadata": {
    "tags": []
   },
   "outputs": [],
   "source": [
    "import os \n",
    "import numpy as np\n",
    "import tensorflow as tf\n",
    "from tensorflow import keras\n",
    "from tensorflow.keras.callbacks import ReduceLROnPlateau,EarlyStopping\n",
    "import horovod.tensorflow.keras as hvd\n",
    "from tensorflow.keras.models import Model\n",
    "from tensorflow.keras.callbacks import ModelCheckpoint\n",
    "import argparse\n",
    "import h5py as h5\n",
    "import utils\n",
    "import matplotlib.pyplot as plt\n",
    "import ABCNet\n",
    "# from ABCNet import ABCNet, SWD\n",
    "import subprocess\n",
    "from sklearn.metrics import RocCurveDisplay, roc_auc_score, roc_curve\n",
    "\n",
    "hvd.init()"
   ]
  },
  {
   "cell_type": "markdown",
   "id": "82c5ff90-abe3-4690-b60f-9bec4ce55095",
   "metadata": {
    "tags": []
   },
   "source": [
    "## Step 1: Understanding the Context"
   ]
  },
  {
   "cell_type": "markdown",
   "id": "c4a03028-6fa6-464c-9881-f818d09005f9",
   "metadata": {},
   "source": [
    "Before we dive into the application of optimal transport, we must first understand the data we will be working with and its corresponding and contained noise. The dataset that we will be using in this tutorial comes from the following study, PileUp Mitigation with Machine Learning (PUMML) (https://arxiv.org/abs/1707.08600). For more information about the data beyond that covered in this tutorial, feel free to check out: https://zenodo.org/records/2652034."
   ]
  },
  {
   "cell_type": "code",
   "execution_count": 23,
   "id": "5840e558-e2e5-4c9f-b966-d786a6dd738a",
   "metadata": {
    "tags": []
   },
   "outputs": [],
   "source": [
    "# Events with different number of pileup interactions (mu)\n",
    "events_by_mu = h5.File('/global/cfs/cdirs/ntrain1/ot_tutorial/PUMMLEventsByMu_mH500.h5', 'r')\n",
    "\n",
    "# Events with a different mass (mH) of the scaler resonance\n",
    "events_by_mh = h5.File('/global/cfs/cdirs/ntrain1/ot_tutorial/PUMMLEventsBymH_Mu140.h5', 'r')"
   ]
  },
  {
   "cell_type": "code",
   "execution_count": 34,
   "id": "7a082bd7-319c-4901-8b6c-4f773ef0d874",
   "metadata": {
    "tags": []
   },
   "outputs": [
    {
     "data": {
      "text/plain": [
       "<KeysViewHDF5 ['0', '1', '10', '100', '101', '102', '103', '104', '105', '106', '107', '108', '109', '11', '110', '111', '112', '113', '114', '115', '116', '117', '118', '119', '12', '120', '121', '122', '123', '124', '125', '126', '127', '128', '129', '13', '130', '131', '132', '133', '134', '135', '136', '137', '138', '139', '14', '140', '141', '142', '143', '144', '145', '146', '147', '148', '149', '15', '150', '151', '152', '153', '154', '155', '156', '157', '158', '159', '16', '160', '161', '162', '163', '164', '165', '166', '167', '168', '169', '17', '170', '171', '172', '173', '174', '175', '176', '177', '178', '179', '18', '180', '19', '2', '20', '21', '22', '23', '24', '25', '26', '27', '28', '29', '3', '30', '31', '32', '33', '34', '35', '36', '37', '38', '39', '4', '40', '41', '42', '43', '44', '45', '46', '47', '48', '49', '5', '50', '51', '52', '53', '54', '55', '56', '57', '58', '59', '6', '60', '61', '62', '63', '64', '65', '66', '67', '68', '69', '7', '70', '71', '72', '73', '74', '75', '76', '77', '78', '79', '8', '80', '81', '82', '83', '84', '85', '86', '87', '88', '89', '9', '90', '91', '92', '93', '94', '95', '96', '97', '98', '99']>"
      ]
     },
     "execution_count": 34,
     "metadata": {},
     "output_type": "execute_result"
    }
   ],
   "source": [
    "events_by_mu.keys()"
   ]
  },
  {
   "cell_type": "code",
   "execution_count": 35,
   "id": "7de9e53f-c170-467a-adef-6006951da354",
   "metadata": {
    "tags": []
   },
   "outputs": [
    {
     "data": {
      "text/plain": [
       "<KeysViewHDF5 ['200', '2000', '300', '500', '700', '900']>"
      ]
     },
     "execution_count": 35,
     "metadata": {},
     "output_type": "execute_result"
    }
   ],
   "source": [
    "events_by_mh.keys()"
   ]
  },
  {
   "cell_type": "code",
   "execution_count": 36,
   "id": "154d9b23-0c7f-4bba-a7b7-6150a25dc143",
   "metadata": {
    "tags": []
   },
   "outputs": [
    {
     "data": {
      "text/plain": [
       "<HDF5 dataset \"140\": shape (2000, 715, 9), type \"<f4\">"
      ]
     },
     "execution_count": 36,
     "metadata": {},
     "output_type": "execute_result"
    }
   ],
   "source": [
    "events_by_mu['140']"
   ]
  },
  {
   "cell_type": "code",
   "execution_count": 37,
   "id": "a9411817-156c-4ece-b8db-d433c821b01a",
   "metadata": {
    "tags": []
   },
   "outputs": [
    {
     "data": {
      "text/plain": [
       "array([b'pt', b'eta', b'phi', b'charged', b'vertex', b'puppi_weight',\n",
       "       b'sk_weight', b'truth_jet', b'reco_jet'], dtype='|S12')"
      ]
     },
     "execution_count": 37,
     "metadata": {},
     "output_type": "execute_result"
    }
   ],
   "source": [
    "events_by_mu.attrs['col_names']"
   ]
  },
  {
   "cell_type": "markdown",
   "id": "bc86aeb9-8714-4a5f-95d5-8946d2dddab6",
   "metadata": {},
   "source": [
    "- pt - Transverse momentum of the particle, in GeV\n",
    "- eta - Pseudorapidity of the particle, in GeV\n",
    "- phi - Azimuthal angle of the particle (be careful about phi being periodic!)\n",
    "- charged - 0 for neutral particles and 1 for charged particles\n",
    "- vertex - Vertex id for the particle, 0 is the leading vertex and > 0 is pileup\n",
    "- puppi_weight - PUPPI weight for the particle, using the parameters described in the PUMML paper\n",
    "- sk_weight - SoftKiller weight for the particle, using the parameters described in the PUMML paper\n",
    "- truth_jet - 0 if particle is in the hardest truth (found without pileup) LV jet, 1 if in second hardest LV jet (some events may not have a second hardest LV jet due to not passing kinematic cuts), and -1 if particle is not in an LV jet\n",
    "- reco_jet - 0 if particle is in reco (found with pileup) jet corresponding to hardest LV jet, 1 if in reco jet corresponding to second hardest LV jet, and -1 if particle is not in any reco jet (rare)"
   ]
  },
  {
   "cell_type": "markdown",
   "id": "8fd2b9fe-0847-4866-8775-8197cb9e4ff1",
   "metadata": {},
   "source": [
    "### Particle Multiplicity"
   ]
  },
  {
   "cell_type": "code",
   "execution_count": 50,
   "id": "01960b8f-af9c-4a28-9262-918479f3eadc",
   "metadata": {},
   "outputs": [
    {
     "data": {
      "image/png": "[encoded data removed]",
      "text/plain": [
       "<Figure size 640x480 with 1 Axes>"
      ]
     },
     "metadata": {},
     "output_type": "display_data"
    }
   ],
   "source": [
    "events_mu_140 = events_by_mu['140']\n",
    "events_mu_140_ndarray = events_mu_140[()]\n",
    "# Demonstrating the non-zero padded multiplicity of the events\n",
    "plt.hist([np.count_nonzero(event[:,0] > 0) for event in events_mu_140_ndarray], bins=np.arange(0, 1000, 10))\n",
    "plt.xlabel('Particle multiplicity for $\\mu=140$')\n",
    "plt.ylabel('Count')\n",
    "plt.show()"
   ]
  },
  {
   "cell_type": "markdown",
   "id": "3e92b1f6-8043-4f42-b0df-37c0fae96edf",
   "metadata": {},
   "source": [
    "Question: Why do you think we see this distribution shape?"
   ]
  },
  {
   "cell_type": "markdown",
   "id": "fae713ce-4211-4068-a614-3e61b9b44b8d",
   "metadata": {},
   "source": [
    "Answer: There are two peaks with different heights as not all events have two jets represented. In other words, the one jet events are those represented in the first peak."
   ]
  },
  {
   "cell_type": "markdown",
   "id": "2a9d97e9-bfa8-4735-85b8-34c3958e6b50",
   "metadata": {},
   "source": [
    "### Weight Distribution"
   ]
  },
  {
   "cell_type": "markdown",
   "id": "9c74c3c0-8864-498c-a092-30b097c34fad",
   "metadata": {},
   "source": [
    "To compare with our OT methodology TOTAL, we have two competitive rule-based approaches: 1) PUPPI, the leading approach at the Compact Muon Solenoid (CMS) experiment at the Large Hadron Collider (LHC) and 2) SoftKiller (SK), the leading approach at the A Toroidal LHC Apparatus (ATLAS) experiment. Note the differences in outputs between the two algorithms."
   ]
  },
  {
   "cell_type": "code",
   "execution_count": 117,
   "id": "bc69b42b-e171-4a4f-8b82-368e418ff844",
   "metadata": {
    "tags": []
   },
   "outputs": [],
   "source": [
    "puppi_weights = []\n",
    "sk_weights = []\n",
    "vertex_ids = []\n",
    "pt_arr = []\n",
    "for mu in range(140, 145):\n",
    "    vertex_ids.append(np.ravel(events_by_mu[str(mu)][()][:,:,4]))\n",
    "    puppi_weights.append(np.ravel(events_by_mu[str(mu)][()][:,:,5]))\n",
    "    sk_weights.append(np.ravel(events_by_mu[str(mu)][()][:,:,6]))\n",
    "    pt_arr.append(np.ravel(events_by_mu[str(mu)][()][:,:,0]))"
   ]
  },
  {
   "cell_type": "code",
   "execution_count": 80,
   "id": "47421589-45c4-4e42-8ee2-43c6f4d8565c",
   "metadata": {
    "tags": []
   },
   "outputs": [
    {
     "data": {
      "image/png": "[encoded data removed]",
      "text/plain": [
       "<Figure size 640x480 with 1 Axes>"
      ]
     },
     "metadata": {},
     "output_type": "display_data"
    }
   ],
   "source": [
    "binning = np.linspace(0,1,20)\n",
    "# Fix vertex_ids to be only primary vertex searching\n",
    "plt.hist(np.hstack(vertex_ids), bins=binning, histtype='step', density=True, label='Truth')\n",
    "plt.hist(np.hstack(puppi_weights), bins=binning, histtype='step', density=True, label='PUPPI')\n",
    "plt.hist(np.hstack(sk_weights), bins=binning, histtype='step', density=True, label='SK')\n",
    "\n",
    "plt.yscale('log')\n",
    "plt.legend()\n",
    "plt.xlabel('Weights')\n",
    "plt.show()"
   ]
  },
  {
   "cell_type": "markdown",
   "id": "55a6bc7b-ad16-49b2-b1d2-33ece6db172c",
   "metadata": {},
   "source": [
    "While looking at the weights directly gives some insight into what the pileup subtraction algorithms do, we can view the efficiency of these algorithms better through Receiver Operating Characteristic (ROC) curves, which compare the true positive rate against the false positive rate of the algorithms in recovering the primary vertex ID."
   ]
  },
  {
   "cell_type": "code",
   "execution_count": 124,
   "id": "3c6b6c5d-76ae-40c7-ae4f-19418a531148",
   "metadata": {
    "tags": []
   },
   "outputs": [],
   "source": [
    "auc = {}\n",
    "fpr = {}\n",
    "tpr = {}\n",
    "\n",
    "# Each event is zero-padded so we reweight the predicted scores to account for this\n",
    "pt_mod = [1e-10 if x==0 else x for x in np.hstack(pt_arr)]\n",
    "\n",
    "auc['puppi'] = roc_auc_score((np.hstack(vertex_ids)==0).astype(int), np.hstack(puppi_weights), sample_weight=pt_mod)\n",
    "fpr['puppi'],tpr['puppi'],_ = roc_curve((np.hstack(vertex_ids)==0).astype(int), np.hstack(puppi_weights), sample_weight=pt_mod)\n",
    "auc['sk'] = roc_auc_score((np.hstack(vertex_ids)==0).astype(int), np.hstack(sk_weights), sample_weight=pt_mod)\n",
    "fpr['sk'],tpr['sk'],_ = roc_curve((np.hstack(vertex_ids)==0).astype(int), np.hstack(sk_weights), sample_weight=pt_mod)"
   ]
  },
  {
   "cell_type": "code",
   "execution_count": 127,
   "id": "c902d173-9459-4a50-a81a-065b4c03d028",
   "metadata": {},
   "outputs": [
    {
     "data": {
      "text/plain": [
       "<matplotlib.legend.Legend at 0x7fb4edbf70a0>"
      ]
     },
     "execution_count": 127,
     "metadata": {},
     "output_type": "execute_result"
    },
    {
     "data": {
      "image/png": "[encoded data removed]",
      "text/plain": [
       "<Figure size 640x480 with 1 Axes>"
      ]
     },
     "metadata": {},
     "output_type": "display_data"
    }
   ],
   "source": [
    "plt.plot(fpr['puppi'], tpr['puppi'],label='PUPPI'+\" AUC=\"+str(np.round(auc['puppi'],3)))\n",
    "plt.plot(fpr['sk'], tpr['sk'],label='SK'+\" AUC=\"+str(np.round(auc['sk'],3)))\n",
    "plt.xlabel('FPR')\n",
    "plt.ylabel('TPR')\n",
    "plt.yscale('log')\n",
    "plt.legend()"
   ]
  },
  {
   "cell_type": "markdown",
   "id": "364c6f42-d2c5-4305-9dd2-70b1b228873a",
   "metadata": {},
   "source": [
    "Question: Why do you think the SK ROC curve looks like this?"
   ]
  },
  {
   "cell_type": "markdown",
   "id": "522f71eb-251e-4d8e-aea0-ccc95e6151f3",
   "metadata": {},
   "source": [
    "Answer: As seen in the weights plot, the SK outputs are binary, which force this angular shape on the ROC curve due to the discretization."
   ]
  },
  {
   "cell_type": "markdown",
   "id": "34f97d79-0282-4873-a145-ac103db75210",
   "metadata": {
    "tags": []
   },
   "source": [
    "## Step 2: Data Manipulation"
   ]
  },
  {
   "cell_type": "markdown",
   "id": "b23d9b79-78fb-4902-8387-340117ee2225",
   "metadata": {},
   "source": [
    "Now that we have studied in some detail the data we will be working with, we can begin to train our OT-based model to compare with PUPPI and SK."
   ]
  },
  {
   "cell_type": "code",
   "execution_count": 133,
   "id": "fbc85fc7-2028-496b-a47a-6ef2a4fc43e2",
   "metadata": {
    "tags": []
   },
   "outputs": [],
   "source": [
    "# Loading datasets and applying a simple preprocessing\n",
    "config_file = 'config_dev.json' # Store some training info\n",
    "dataset_config = utils.LoadJson(config_file)\n",
    "NSWD = dataset_config['NSWD'] # SWD is calculated considering only NSWD features\n",
    "NPART=dataset_config['NPART'] # Maximum number of particles considered"
   ]
  },
  {
   "cell_type": "code",
   "execution_count": 134,
   "id": "f6c6ad91-301c-4d02-87f4-7103060c1b4e",
   "metadata": {
    "tags": []
   },
   "outputs": [],
   "source": [
    "import importlib\n",
    "importlib.reload(utils)\n",
    "# To improve generality, we choose a high mu value representative of HL-LHC conditions\n",
    "test_mu = 140\n",
    "data,label,_,_ = utils.preprocessing(os.path.join('/global/cfs/cdirs/ntrain1/ot_tutorial',dataset_config['FILES']),test_mu,nparts=NPART)\n",
    "frac = 0.8 # Fraction of events used for training\n",
    "data_size = data.shape[0]\n",
    "data_label = data[:,:,:NSWD].copy() # Data with pileup used in the loss function to compare with label; the data without pileup\n",
    "dataset = tf.data.Dataset.from_tensor_slices((data,np.concatenate([data_label,label[:,:,:NSWD]],-1)))\n",
    "train_data, test_data = utils.split_data(dataset,data_size,frac)\n",
    "del dataset, data, label, data_label"
   ]
  },
  {
   "cell_type": "markdown",
   "id": "8906c2b9-4053-45ce-976c-51849378833f",
   "metadata": {
    "tags": []
   },
   "source": [
    "## Step 3: Model Training"
   ]
  },
  {
   "cell_type": "markdown",
   "id": "d8d8e55e-d800-484c-879a-e63f30000620",
   "metadata": {},
   "source": [
    "With the data manipulation completed, we will move into the training of the model in proper. Run the following cell and while it is executing, we will study the actual use of OT in the loss calculation of our model by looking at the ABCNet.py script in the current directory."
   ]
  },
  {
   "cell_type": "code",
   "execution_count": 144,
   "id": "e4884f2e-b5a4-48d3-93b2-b80b01db368f",
   "metadata": {
    "tags": []
   },
   "outputs": [],
   "source": [
    "BATCH_SIZE = dataset_config['BATCH']\n",
    "LR = float(dataset_config['LR'])\n",
    "NUM_EPOCHS = dataset_config['MAXEPOCH']\n",
    "EARLY_STOP = dataset_config['EARLYSTOP']\n",
    "checkpoint_folder = 'checkpoints_{}/checkpoint_sols'.format(dataset_config['CHECKPOINT_NAME'])"
   ]
  },
  {
   "cell_type": "code",
   "execution_count": 145,
   "id": "260f6e32-8acc-41fd-9e07-cff451300086",
   "metadata": {
    "tags": []
   },
   "outputs": [
    {
     "name": "stdout",
     "output_type": "stream",
     "text": [
      "WARNING:tensorflow:`period` argument is deprecated. Please use `save_freq` to specify the frequency in number of batches seen.\n",
      "Model: \"model_6\"\n",
      "__________________________________________________________________________________________________\n",
      " Layer (type)                   Output Shape         Param #     Connected to                     \n",
      "==================================================================================================\n",
      " input_7 (InputLayer)           [(None, 1000, 6)]    0           []                               \n",
      "                                                                                                  \n",
      " tf.__operators__.getitem_39 (S  (None, 1000, 3)     0           ['input_7[0][0]']                \n",
      " licingOpLambda)                                                                                  \n",
      "                                                                                                  \n",
      " tf.__operators__.getitem_40 (S  (None, 1000, 2)     0           ['tf.__operators__.getitem_39[0][\n",
      " licingOpLambda)                                                 0]']                             \n",
      "                                                                                                  \n",
      " tf.compat.v1.transpose_24 (TFO  (None, 2, 1000)     0           ['tf.__operators__.getitem_40[0][\n",
      " pLambda)                                                        0]']                             \n",
      "                                                                                                  \n",
      " tf.__operators__.getitem_41 (S  (None, 1, 1000)     0           ['tf.compat.v1.transpose_24[0][0]\n",
      " licingOpLambda)                                                 ']                               \n",
      "                                                                                                  \n",
      " tf.tile_12 (TFOpLambda)        (None, 1000, 1000)   0           ['tf.__operators__.getitem_41[0][\n",
      "                                                                 0]']                             \n",
      "                                                                                                  \n",
      " tf.__operators__.getitem_36 (S  (None, 1000)        0           ['input_7[0][0]']                \n",
      " licingOpLambda)                                                                                  \n",
      "                                                                                                  \n",
      " tf.__operators__.getitem_37 (S  (None, 1000)        0           ['input_7[0][0]']                \n",
      " licingOpLambda)                                                                                  \n",
      "                                                                                                  \n",
      " tf.__operators__.getitem_38 (S  (None, 1000)        0           ['input_7[0][0]']                \n",
      " licingOpLambda)                                                                                  \n",
      "                                                                                                  \n",
      " tf.compat.v1.transpose_25 (TFO  (None, 1000, 1000)  0           ['tf.tile_12[0][0]']             \n",
      " pLambda)                                                                                         \n",
      "                                                                                                  \n",
      " tf.__operators__.eq_6 (TFOpLam  (None, 1000)        0           ['tf.__operators__.getitem_36[0][\n",
      " bda)                                                            0]']                             \n",
      "                                                                                                  \n",
      " tf.ones_like_6 (TFOpLambda)    (None, 1000)         0           ['tf.__operators__.getitem_37[0][\n",
      "                                                                 0]']                             \n",
      "                                                                                                  \n",
      " tf.zeros_like_12 (TFOpLambda)  (None, 1000)         0           ['tf.__operators__.getitem_38[0][\n",
      "                                                                 0]']                             \n",
      "                                                                                                  \n",
      " tf.math.square_18 (TFOpLambda)  (None, 1000, 2)     0           ['tf.__operators__.getitem_40[0][\n",
      "                                                                 0]']                             \n",
      "                                                                                                  \n",
      " tf.math.subtract_18 (TFOpLambd  (None, 1000, 1000)  0           ['tf.tile_12[0][0]',             \n",
      " a)                                                               'tf.compat.v1.transpose_25[0][0]\n",
      "                                                                 ']                               \n",
      "                                                                                                  \n",
      " tf.where_18 (TFOpLambda)       (None, 1000)         0           ['tf.__operators__.eq_6[0][0]',  \n",
      "                                                                  'tf.ones_like_6[0][0]',         \n",
      "                                                                  'tf.zeros_like_12[0][0]']       \n",
      "                                                                                                  \n",
      " tf.math.reduce_sum_6 (TFOpLamb  (None, 1000, 1)     0           ['tf.math.square_18[0][0]']      \n",
      " da)                                                                                              \n",
      "                                                                                                  \n",
      " tf.math.abs_12 (TFOpLambda)    (None, 1000, 1000)   0           ['tf.math.subtract_18[0][0]']    \n",
      "                                                                                                  \n",
      " tf.expand_dims_6 (TFOpLambda)  (None, 1000, 1)      0           ['tf.where_18[0][0]']            \n",
      "                                                                                                  \n",
      " tf.compat.v1.transpose_26 (TFO  (None, 1, 1000)     0           ['tf.math.reduce_sum_6[0][0]']   \n",
      " pLambda)                                                                                         \n",
      "                                                                                                  \n",
      " tf.linalg.matmul_6 (TFOpLambda  (None, 1000, 1000)  0           ['tf.__operators__.getitem_40[0][\n",
      " )                                                               0]',                             \n",
      "                                                                  'tf.compat.v1.transpose_24[0][0]\n",
      "                                                                 ']                               \n",
      "                                                                                                  \n",
      " tf.math.abs_13 (TFOpLambda)    (None, 1000, 1000)   0           ['tf.math.abs_12[0][0]']         \n",
      "                                                                                                  \n",
      " tf.math.multiply_13 (TFOpLambd  (None, 1000, 1)     0           ['tf.expand_dims_6[0][0]']       \n",
      " a)                                                                                               \n",
      "                                                                                                  \n",
      " tf.__operators__.add_30 (TFOpL  (None, 1000, 1000)  0           ['tf.math.reduce_sum_6[0][0]',   \n",
      " ambda)                                                           'tf.compat.v1.transpose_26[0][0]\n",
      "                                                                 ']                               \n",
      "                                                                                                  \n",
      " tf.math.multiply_12 (TFOpLambd  (None, 1000, 1000)  0           ['tf.linalg.matmul_6[0][0]']     \n",
      " a)                                                                                               \n",
      "                                                                                                  \n",
      " tf.math.greater_equal_6 (TFOpL  (None, 1000, 1000)  0           ['tf.math.abs_13[0][0]']         \n",
      " ambda)                                                                                           \n",
      "                                                                                                  \n",
      " tf.math.subtract_19 (TFOpLambd  (None, 1000, 1000)  0           ['tf.math.abs_12[0][0]']         \n",
      " a)                                                                                               \n",
      "                                                                                                  \n",
      " tf.compat.v1.transpose_27 (TFO  (None, 1, 1000)     0           ['tf.math.multiply_13[0][0]']    \n",
      " pLambda)                                                                                         \n",
      "                                                                                                  \n",
      " tf.__operators__.add_31 (TFOpL  (None, 1000, 1000)  0           ['tf.__operators__.add_30[0][0]',\n",
      " ambda)                                                           'tf.math.multiply_12[0][0]']    \n",
      "                                                                                                  \n",
      " tf.math.square_19 (TFOpLambda)  (None, 1000, 1000)  0           ['tf.math.abs_12[0][0]']         \n",
      "                                                                                                  \n",
      " tf.where_19 (TFOpLambda)       (None, 1000, 1000)   0           ['tf.math.greater_equal_6[0][0]',\n",
      "                                                                  'tf.math.subtract_19[0][0]',    \n",
      "                                                                  'tf.math.abs_12[0][0]']         \n",
      "                                                                                                  \n",
      " tf.__operators__.add_33 (TFOpL  (None, 1000, 1000)  0           ['tf.compat.v1.transpose_27[0][0]\n",
      " ambda)                                                          ',                               \n",
      "                                                                  'tf.math.multiply_13[0][0]']    \n",
      "                                                                                                  \n",
      " tf.math.subtract_20 (TFOpLambd  (None, 1000, 1000)  0           ['tf.__operators__.add_31[0][0]',\n",
      " a)                                                               'tf.math.square_19[0][0]']      \n",
      "                                                                                                  \n",
      " tf.math.square_20 (TFOpLambda)  (None, 1000, 1000)  0           ['tf.where_19[0][0]']            \n",
      "                                                                                                  \n",
      " tf.math.equal_6 (TFOpLambda)   (None, 1000, 1000)   0           ['tf.__operators__.add_33[0][0]']\n",
      "                                                                                                  \n",
      " tf.zeros_like_13 (TFOpLambda)  (None, 1000, 1000)   0           ['tf.__operators__.add_33[0][0]']\n",
      "                                                                                                  \n",
      " tf.__operators__.add_32 (TFOpL  (None, 1000, 1000)  0           ['tf.math.subtract_20[0][0]',    \n",
      " ambda)                                                           'tf.math.square_20[0][0]']      \n",
      "                                                                                                  \n",
      " tf.where_20 (TFOpLambda)       (None, 1000, 1000)   0           ['tf.math.equal_6[0][0]',        \n",
      "                                                                  'tf.zeros_like_13[0][0]',       \n",
      "                                                                  'tf.__operators__.add_33[0][0]']\n",
      "                                                                                                  \n",
      " tf.__operators__.add_34 (TFOpL  (None, 1000, 1000)  0           ['tf.__operators__.add_32[0][0]',\n",
      " ambda)                                                           'tf.where_20[0][0]']            \n",
      "                                                                                                  \n",
      " tf.math.negative_6 (TFOpLambda  (None, 1000, 1000)  0           ['tf.__operators__.add_34[0][0]']\n",
      " )                                                                                                \n",
      "                                                                                                  \n",
      " tf.math.top_k_6 (TFOpLambda)   TopKV2(values=(None  0           ['tf.math.negative_6[0][0]']     \n",
      "                                , 1000, 50),                                                      \n",
      "                                 indices=(None, 100                                               \n",
      "                                0, 50))                                                           \n",
      "                                                                                                  \n",
      " tf.compat.v1.gather_6 (TFOpLam  (None, 1000, 4)     0           ['input_7[0][0]']                \n",
      " bda)                                                                                             \n",
      "                                                                                                  \n",
      " Gap1 (GAPBlock)                ((None, 1000, 16),   330         ['tf.math.top_k_6[0][1]',        \n",
      "                                 (None, 1000, 16),                'tf.compat.v1.gather_6[0][0]',  \n",
      "                                 (None, 1000, 1))                 'tf.where_18[0][0]',            \n",
      "                                                                  'tf.math.top_k_6[0][0]']        \n",
      "                                                                                                  \n",
      " conv1d_42 (Conv1D)             (None, 1000, 64)     1088        ['Gap1[0][0]']                   \n",
      "                                                                                                  \n",
      " conv1d_43 (Conv1D)             (None, 1000, 64)     4160        ['conv1d_42[0][0]']              \n",
      "                                                                                                  \n",
      " batch_normalization_70 (BatchN  (None, 1000, 64)    256         ['conv1d_43[0][0]']              \n",
      " ormalization)                                                                                    \n",
      "                                                                                                  \n",
      " Gap2 (GAPBlock)                ((None, 1000, 32),   4458        ['tf.math.top_k_6[0][1]',        \n",
      "                                 (None, 1000, 32),                'batch_normalization_70[0][0]', \n",
      "                                 (None, 1000, 1))                 'tf.where_18[0][0]']            \n",
      "                                                                                                  \n",
      " conv1d_44 (Conv1D)             (None, 1000, 128)    4224        ['Gap2[0][0]']                   \n",
      "                                                                                                  \n",
      " conv1d_45 (Conv1D)             (None, 1000, 128)    16512       ['conv1d_44[0][0]']              \n",
      "                                                                                                  \n",
      " batch_normalization_75 (BatchN  (None, 1000, 128)   512         ['conv1d_45[0][0]']              \n",
      " ormalization)                                                                                    \n",
      "                                                                                                  \n",
      " tf.concat_12 (TFOpLambda)      (None, 1000, 240)    0           ['batch_normalization_70[0][0]', \n",
      "                                                                  'batch_normalization_75[0][0]', \n",
      "                                                                  'Gap1[0][1]',                   \n",
      "                                                                  'Gap2[0][1]']                   \n",
      "                                                                                                  \n",
      " conv1d_46 (Conv1D)             (None, 1000, 256)    61696       ['tf.concat_12[0][0]']           \n",
      "                                                                                                  \n",
      " batch_normalization_76 (BatchN  (None, 1000, 256)   1024        ['conv1d_46[0][0]']              \n",
      " ormalization)                                                                                    \n",
      "                                                                                                  \n",
      " tf.math.reduce_mean_6 (TFOpLam  (None, 1, 256)      0           ['batch_normalization_76[0][0]'] \n",
      " bda)                                                                                             \n",
      "                                                                                                  \n",
      " tf.tile_13 (TFOpLambda)        (None, 1000, 256)    0           ['tf.math.reduce_mean_6[0][0]']  \n",
      "                                                                                                  \n",
      " tf.concat_13 (TFOpLambda)      (None, 1000, 512)    0           ['tf.tile_13[0][0]',             \n",
      "                                                                  'batch_normalization_76[0][0]'] \n",
      "                                                                                                  \n",
      " conv1d_47 (Conv1D)             (None, 1000, 128)    65664       ['tf.concat_13[0][0]']           \n",
      "                                                                                                  \n",
      " conv1d_48 (Conv1D)             (None, 1000, 1)      129         ['conv1d_47[0][0]']              \n",
      "                                                                                                  \n",
      "==================================================================================================\n",
      "Total params: 160,053\n",
      "Trainable params: 158,957\n",
      "Non-trainable params: 1,096\n",
      "__________________________________________________________________________________________________\n",
      "None\n",
      "Epoch 1/200\n",
      "WARNING:tensorflow:Detecting that an object or model or tf.train.Checkpoint is being deleted with unrestored values. See the following logs for the specific values in question. To silence these warnings, use `status.expect_partial()`. See https://www.tensorflow.org/api_docs/python/tf/train/Checkpoint#restorefor details about the status object returned by the restore function.\n",
      "WARNING:tensorflow:Value in checkpoint could not be found in the restored object: (root).optimizer.iter\n",
      "WARNING:tensorflow:Value in checkpoint could not be found in the restored object: (root).optimizer.beta_1\n",
      "WARNING:tensorflow:Value in checkpoint could not be found in the restored object: (root).optimizer.beta_2\n",
      "WARNING:tensorflow:Value in checkpoint could not be found in the restored object: (root).optimizer.decay\n",
      "WARNING:tensorflow:Value in checkpoint could not be found in the restored object: (root).optimizer.learning_rate\n",
      "6/6 [==============================] - 6s 661ms/step - loss: 122.7757 - val_loss: 435.0364 - lr: 0.0010\n",
      "Epoch 2/200\n",
      "6/6 [==============================] - 3s 539ms/step - loss: 13.5717 - val_loss: 401.3967 - lr: 0.0010\n",
      "Epoch 3/200\n",
      "6/6 [==============================] - 3s 540ms/step - loss: 11.7469 - val_loss: 372.5866 - lr: 0.0010\n",
      "Epoch 4/200\n",
      "6/6 [==============================] - 3s 534ms/step - loss: 10.5746 - val_loss: 353.7510 - lr: 0.0010\n",
      "Epoch 5/200\n",
      "6/6 [==============================] - 3s 555ms/step - loss: 9.8403 - val_loss: 334.0682 - lr: 0.0010\n",
      "Epoch 6/200\n",
      "6/6 [==============================] - 3s 537ms/step - loss: 9.2036 - val_loss: 307.3448 - lr: 0.0010\n",
      "Epoch 7/200\n",
      "6/6 [==============================] - 3s 545ms/step - loss: 8.3383 - val_loss: 293.7200 - lr: 0.0010\n",
      "Epoch 8/200\n",
      "6/6 [==============================] - 3s 536ms/step - loss: 6.8821 - val_loss: 285.7493 - lr: 0.0010\n",
      "Epoch 9/200\n",
      "6/6 [==============================] - 3s 538ms/step - loss: 6.0921 - val_loss: 271.7802 - lr: 0.0010\n",
      "Epoch 10/200\n",
      "6/6 [==============================] - 3s 542ms/step - loss: 5.6896 - val_loss: 264.1134 - lr: 0.0010\n",
      "Epoch 11/200\n",
      "6/6 [==============================] - 3s 539ms/step - loss: 5.3770 - val_loss: 250.3583 - lr: 0.0010\n",
      "Epoch 12/200\n",
      "6/6 [==============================] - 3s 543ms/step - loss: 5.0938 - val_loss: 240.4183 - lr: 0.0010\n",
      "Epoch 13/200\n",
      "6/6 [==============================] - 3s 540ms/step - loss: 5.1091 - val_loss: 228.5585 - lr: 0.0010\n",
      "Epoch 14/200\n",
      "6/6 [==============================] - 3s 537ms/step - loss: 4.9209 - val_loss: 216.3249 - lr: 0.0010\n",
      "Epoch 15/200\n",
      "6/6 [==============================] - 3s 547ms/step - loss: 4.9096 - val_loss: 211.3857 - lr: 0.0010\n",
      "Epoch 16/200\n",
      "6/6 [==============================] - 3s 535ms/step - loss: 4.9054 - val_loss: 197.3862 - lr: 0.0010\n",
      "Epoch 17/200\n",
      "6/6 [==============================] - 3s 561ms/step - loss: 4.8115 - val_loss: 190.8627 - lr: 0.0010\n",
      "Epoch 18/200\n",
      "6/6 [==============================] - 3s 538ms/step - loss: 4.8297 - val_loss: 182.5744 - lr: 0.0010\n",
      "Epoch 19/200\n",
      "6/6 [==============================] - 3s 546ms/step - loss: 4.6196 - val_loss: 172.7311 - lr: 0.0010\n",
      "Epoch 20/200\n",
      "6/6 [==============================] - 3s 577ms/step - loss: 4.6645 - val_loss: 160.4491 - lr: 0.0010\n",
      "Epoch 21/200\n",
      "6/6 [==============================] - 3s 545ms/step - loss: 4.4835 - val_loss: 155.3110 - lr: 0.0010\n",
      "Epoch 22/200\n",
      "6/6 [==============================] - 3s 539ms/step - loss: 4.5264 - val_loss: 146.0647 - lr: 0.0010\n",
      "Epoch 23/200\n",
      "6/6 [==============================] - 3s 541ms/step - loss: 4.3532 - val_loss: 143.7507 - lr: 0.0010\n",
      "Epoch 24/200\n",
      "6/6 [==============================] - 3s 536ms/step - loss: 4.3084 - val_loss: 135.4843 - lr: 0.0010\n",
      "Epoch 25/200\n",
      "6/6 [==============================] - 3s 538ms/step - loss: 4.2958 - val_loss: 126.8097 - lr: 0.0010\n",
      "Epoch 26/200\n",
      "6/6 [==============================] - 3s 533ms/step - loss: 4.1751 - val_loss: 118.5114 - lr: 0.0010\n",
      "Epoch 27/200\n",
      "6/6 [==============================] - 3s 538ms/step - loss: 4.1186 - val_loss: 113.3933 - lr: 0.0010\n",
      "Epoch 28/200\n",
      "6/6 [==============================] - 3s 551ms/step - loss: 4.0563 - val_loss: 108.9710 - lr: 0.0010\n",
      "Epoch 29/200\n",
      "6/6 [==============================] - 3s 540ms/step - loss: 4.0496 - val_loss: 101.9966 - lr: 0.0010\n",
      "Epoch 30/200\n",
      "6/6 [==============================] - 3s 538ms/step - loss: 3.9590 - val_loss: 99.3947 - lr: 0.0010\n",
      "Epoch 31/200\n",
      "6/6 [==============================] - 3s 541ms/step - loss: 3.8451 - val_loss: 97.2678 - lr: 0.0010\n",
      "Epoch 32/200\n",
      "6/6 [==============================] - 3s 531ms/step - loss: 3.7757 - val_loss: 88.7534 - lr: 0.0010\n",
      "Epoch 33/200\n",
      "6/6 [==============================] - 3s 536ms/step - loss: 3.6780 - val_loss: 88.3371 - lr: 0.0010\n",
      "Epoch 34/200\n",
      "6/6 [==============================] - 3s 544ms/step - loss: 3.7735 - val_loss: 83.0525 - lr: 0.0010\n",
      "Epoch 35/200\n",
      "6/6 [==============================] - 3s 536ms/step - loss: 3.7114 - val_loss: 79.1585 - lr: 0.0010\n",
      "Epoch 36/200\n",
      "6/6 [==============================] - 3s 535ms/step - loss: 3.7350 - val_loss: 74.2936 - lr: 0.0010\n",
      "Epoch 37/200\n",
      "6/6 [==============================] - 3s 534ms/step - loss: 3.7907 - val_loss: 71.8776 - lr: 0.0010\n",
      "Epoch 38/200\n",
      "6/6 [==============================] - 3s 535ms/step - loss: 3.6171 - val_loss: 67.7138 - lr: 0.0010\n",
      "Epoch 39/200\n",
      "6/6 [==============================] - 3s 538ms/step - loss: 3.5823 - val_loss: 64.4032 - lr: 0.0010\n",
      "Epoch 40/200\n",
      "6/6 [==============================] - 3s 539ms/step - loss: 3.6789 - val_loss: 62.0130 - lr: 0.0010\n",
      "Epoch 41/200\n",
      "6/6 [==============================] - 3s 543ms/step - loss: 3.6761 - val_loss: 59.0951 - lr: 0.0010\n",
      "Epoch 42/200\n",
      "6/6 [==============================] - 3s 537ms/step - loss: 3.6167 - val_loss: 56.1163 - lr: 0.0010\n",
      "Epoch 43/200\n",
      "6/6 [==============================] - 3s 539ms/step - loss: 3.5434 - val_loss: 53.1694 - lr: 0.0010\n",
      "Epoch 44/200\n",
      "6/6 [==============================] - 3s 537ms/step - loss: 3.6059 - val_loss: 50.7433 - lr: 0.0010\n",
      "Epoch 45/200\n",
      "6/6 [==============================] - 3s 550ms/step - loss: 3.5878 - val_loss: 48.9403 - lr: 0.0010\n",
      "Epoch 46/200\n",
      "6/6 [==============================] - 3s 538ms/step - loss: 3.6026 - val_loss: 46.2015 - lr: 0.0010\n",
      "Epoch 47/200\n",
      "6/6 [==============================] - 3s 538ms/step - loss: 3.4991 - val_loss: 43.7465 - lr: 0.0010\n",
      "Epoch 48/200\n",
      "6/6 [==============================] - 3s 534ms/step - loss: 3.4884 - val_loss: 42.5490 - lr: 0.0010\n",
      "Epoch 49/200\n",
      "6/6 [==============================] - 3s 535ms/step - loss: 3.5286 - val_loss: 40.3307 - lr: 0.0010\n",
      "Epoch 50/200\n",
      "6/6 [==============================] - 3s 538ms/step - loss: 3.5117 - val_loss: 38.8083 - lr: 0.0010\n",
      "Epoch 51/200\n",
      "6/6 [==============================] - 3s 532ms/step - loss: 3.5118 - val_loss: 38.8059 - lr: 0.0010\n",
      "Epoch 52/200\n",
      "6/6 [==============================] - 3s 535ms/step - loss: 3.4842 - val_loss: 37.1973 - lr: 0.0010\n",
      "Epoch 53/200\n",
      "6/6 [==============================] - 3s 534ms/step - loss: 3.4795 - val_loss: 35.1711 - lr: 0.0010\n",
      "Epoch 54/200\n",
      "6/6 [==============================] - 3s 541ms/step - loss: 3.4271 - val_loss: 32.8364 - lr: 0.0010\n",
      "Epoch 55/200\n",
      "6/6 [==============================] - 3s 535ms/step - loss: 3.4526 - val_loss: 32.6046 - lr: 0.0010\n",
      "Epoch 56/200\n",
      "6/6 [==============================] - 3s 540ms/step - loss: 3.3993 - val_loss: 29.6690 - lr: 0.0010\n",
      "Epoch 57/200\n",
      "6/6 [==============================] - 3s 537ms/step - loss: 3.3766 - val_loss: 27.7108 - lr: 0.0010\n",
      "Epoch 58/200\n",
      "6/6 [==============================] - 3s 536ms/step - loss: 3.3878 - val_loss: 27.6484 - lr: 0.0010\n",
      "Epoch 59/200\n",
      "6/6 [==============================] - 3s 536ms/step - loss: 3.4837 - val_loss: 25.5363 - lr: 0.0010\n",
      "Epoch 60/200\n",
      "6/6 [==============================] - 3s 534ms/step - loss: 3.5071 - val_loss: 23.8757 - lr: 0.0010\n",
      "Epoch 61/200\n",
      "6/6 [==============================] - 3s 535ms/step - loss: 3.4033 - val_loss: 22.3237 - lr: 0.0010\n",
      "Epoch 62/200\n",
      "6/6 [==============================] - 3s 537ms/step - loss: 3.3411 - val_loss: 21.8398 - lr: 0.0010\n",
      "Epoch 63/200\n",
      "6/6 [==============================] - 3s 566ms/step - loss: 3.3829 - val_loss: 20.8637 - lr: 0.0010\n",
      "Epoch 64/200\n",
      "6/6 [==============================] - 3s 544ms/step - loss: 3.3709 - val_loss: 17.6736 - lr: 0.0010\n",
      "Epoch 65/200\n",
      "6/6 [==============================] - 3s 506ms/step - loss: 3.3496 - val_loss: 17.9786 - lr: 0.0010\n",
      "Epoch 66/200\n",
      "6/6 [==============================] - 3s 543ms/step - loss: 3.3220 - val_loss: 16.6940 - lr: 0.0010\n",
      "Epoch 67/200\n",
      "6/6 [==============================] - 3s 537ms/step - loss: 3.3103 - val_loss: 14.7822 - lr: 0.0010\n",
      "Epoch 68/200\n",
      "6/6 [==============================] - 3s 536ms/step - loss: 3.2902 - val_loss: 12.7074 - lr: 0.0010\n",
      "Epoch 69/200\n",
      "6/6 [==============================] - 3s 534ms/step - loss: 3.3336 - val_loss: 12.3987 - lr: 0.0010\n",
      "Epoch 70/200\n",
      "6/6 [==============================] - 3s 537ms/step - loss: 3.3099 - val_loss: 10.3439 - lr: 0.0010\n",
      "Epoch 71/200\n",
      "6/6 [==============================] - 3s 536ms/step - loss: 3.2989 - val_loss: 9.9483 - lr: 0.0010\n",
      "Epoch 72/200\n",
      "6/6 [==============================] - 3s 539ms/step - loss: 3.2772 - val_loss: 9.8210 - lr: 0.0010\n",
      "Epoch 73/200\n",
      "6/6 [==============================] - 3s 540ms/step - loss: 3.2131 - val_loss: 8.3116 - lr: 0.0010\n",
      "Epoch 74/200\n",
      "6/6 [==============================] - 3s 505ms/step - loss: 3.2516 - val_loss: 9.0663 - lr: 0.0010\n",
      "Epoch 75/200\n",
      "6/6 [==============================] - 3s 547ms/step - loss: 3.2589 - val_loss: 7.7153 - lr: 0.0010\n",
      "Epoch 76/200\n",
      "6/6 [==============================] - 3s 536ms/step - loss: 3.2070 - val_loss: 7.1128 - lr: 0.0010\n",
      "Epoch 77/200\n",
      "6/6 [==============================] - 3s 505ms/step - loss: 3.2454 - val_loss: 7.8248 - lr: 0.0010\n",
      "Epoch 78/200\n",
      "6/6 [==============================] - 3s 539ms/step - loss: 3.2756 - val_loss: 6.8820 - lr: 0.0010\n",
      "Epoch 79/200\n",
      "6/6 [==============================] - 3s 538ms/step - loss: 3.2286 - val_loss: 6.3441 - lr: 0.0010\n",
      "Epoch 80/200\n",
      "6/6 [==============================] - 3s 506ms/step - loss: 3.1447 - val_loss: 6.7491 - lr: 0.0010\n",
      "Epoch 81/200\n",
      "6/6 [==============================] - 3s 505ms/step - loss: 3.2126 - val_loss: 6.4072 - lr: 0.0010\n",
      "Epoch 82/200\n",
      "6/6 [==============================] - 3s 537ms/step - loss: 3.2305 - val_loss: 6.1444 - lr: 0.0010\n",
      "Epoch 83/200\n",
      "6/6 [==============================] - 3s 505ms/step - loss: 3.1617 - val_loss: 6.2917 - lr: 0.0010\n",
      "Epoch 84/200\n",
      "6/6 [==============================] - 3s 538ms/step - loss: 3.2511 - val_loss: 5.9467 - lr: 0.0010\n",
      "Epoch 85/200\n",
      "6/6 [==============================] - 3s 505ms/step - loss: 3.1915 - val_loss: 6.0565 - lr: 0.0010\n",
      "Epoch 86/200\n",
      "6/6 [==============================] - 3s 504ms/step - loss: 3.2070 - val_loss: 6.0873 - lr: 0.0010\n",
      "Epoch 87/200\n",
      "6/6 [==============================] - 3s 536ms/step - loss: 3.1062 - val_loss: 5.3763 - lr: 0.0010\n",
      "Epoch 88/200\n",
      "6/6 [==============================] - 3s 505ms/step - loss: 3.1430 - val_loss: 5.3949 - lr: 0.0010\n",
      "Epoch 89/200\n",
      "6/6 [==============================] - 3s 505ms/step - loss: 3.1700 - val_loss: 5.5540 - lr: 0.0010\n",
      "Epoch 90/200\n",
      "6/6 [==============================] - 3s 536ms/step - loss: 3.1478 - val_loss: 4.7363 - lr: 0.0010\n",
      "Epoch 91/200\n",
      "6/6 [==============================] - 3s 505ms/step - loss: 3.1218 - val_loss: 4.9861 - lr: 0.0010\n",
      "Epoch 92/200\n",
      "6/6 [==============================] - 3s 505ms/step - loss: 3.1317 - val_loss: 5.2455 - lr: 0.0010\n",
      "Epoch 93/200\n",
      "6/6 [==============================] - 3s 505ms/step - loss: 3.2148 - val_loss: 5.4029 - lr: 0.0010\n",
      "Epoch 94/200\n",
      "6/6 [==============================] - 3s 505ms/step - loss: 3.1826 - val_loss: 5.0798 - lr: 0.0010\n",
      "Epoch 95/200\n",
      "6/6 [==============================] - 3s 560ms/step - loss: 3.1140 - val_loss: 4.7250 - lr: 0.0010\n",
      "Epoch 96/200\n",
      "6/6 [==============================] - 3s 585ms/step - loss: 3.1032 - val_loss: 4.6468 - lr: 0.0010\n",
      "Epoch 97/200\n",
      "6/6 [==============================] - 3s 506ms/step - loss: 3.1035 - val_loss: 5.1941 - lr: 0.0010\n",
      "Epoch 98/200\n",
      "6/6 [==============================] - 3s 506ms/step - loss: 3.2635 - val_loss: 4.9494 - lr: 0.0010\n",
      "Epoch 99/200\n",
      "6/6 [==============================] - 3s 505ms/step - loss: 3.1997 - val_loss: 4.6946 - lr: 0.0010\n",
      "Epoch 100/200\n",
      "6/6 [==============================] - 3s 504ms/step - loss: 3.1856 - val_loss: 4.8397 - lr: 0.0010\n",
      "Epoch 101/200\n",
      "6/6 [==============================] - 3s 535ms/step - loss: 3.1575 - val_loss: 4.2614 - lr: 0.0010\n",
      "Epoch 102/200\n",
      "6/6 [==============================] - 3s 541ms/step - loss: 3.1400 - val_loss: 4.0288 - lr: 0.0010\n",
      "Epoch 103/200\n",
      "6/6 [==============================] - 3s 505ms/step - loss: 3.1124 - val_loss: 4.6822 - lr: 0.0010\n",
      "Epoch 104/200\n",
      "6/6 [==============================] - 3s 537ms/step - loss: 3.1398 - val_loss: 3.9738 - lr: 0.0010\n",
      "Epoch 105/200\n",
      "6/6 [==============================] - 3s 542ms/step - loss: 3.1893 - val_loss: 3.6327 - lr: 0.0010\n",
      "Epoch 106/200\n",
      "6/6 [==============================] - 3s 505ms/step - loss: 3.2576 - val_loss: 4.0228 - lr: 0.0010\n",
      "Epoch 107/200\n",
      "6/6 [==============================] - 3s 505ms/step - loss: 3.1404 - val_loss: 4.2058 - lr: 0.0010\n",
      "Epoch 108/200\n",
      "6/6 [==============================] - 3s 505ms/step - loss: 3.1129 - val_loss: 4.1514 - lr: 0.0010\n",
      "Epoch 109/200\n",
      "6/6 [==============================] - 3s 505ms/step - loss: 3.0476 - val_loss: 4.4198 - lr: 0.0010\n",
      "Epoch 110/200\n",
      "6/6 [==============================] - 3s 506ms/step - loss: 3.0706 - val_loss: 4.2288 - lr: 0.0010\n",
      "Epoch 111/200\n",
      "6/6 [==============================] - 3s 505ms/step - loss: 3.0861 - val_loss: 4.3368 - lr: 0.0010\n",
      "Epoch 112/200\n",
      "6/6 [==============================] - 3s 504ms/step - loss: 3.2002 - val_loss: 3.8711 - lr: 0.0010\n",
      "Epoch 113/200\n",
      "6/6 [==============================] - 3s 535ms/step - loss: 3.0646 - val_loss: 3.3872 - lr: 0.0010\n",
      "Epoch 114/200\n",
      "6/6 [==============================] - 3s 505ms/step - loss: 3.2158 - val_loss: 4.2917 - lr: 0.0010\n",
      "Epoch 115/200\n",
      "6/6 [==============================] - 3s 505ms/step - loss: 3.1062 - val_loss: 3.4315 - lr: 0.0010\n",
      "Epoch 116/200\n",
      "6/6 [==============================] - 3s 534ms/step - loss: 3.1857 - val_loss: 3.2739 - lr: 0.0010\n",
      "Epoch 117/200\n",
      "6/6 [==============================] - 3s 505ms/step - loss: 3.1220 - val_loss: 4.0055 - lr: 0.0010\n",
      "Epoch 118/200\n",
      "6/6 [==============================] - 3s 505ms/step - loss: 3.0675 - val_loss: 3.6007 - lr: 0.0010\n",
      "Epoch 119/200\n",
      "6/6 [==============================] - 3s 506ms/step - loss: 3.0624 - val_loss: 3.4290 - lr: 0.0010\n",
      "Epoch 120/200\n",
      "6/6 [==============================] - 3s 505ms/step - loss: 3.0761 - val_loss: 3.7280 - lr: 0.0010\n",
      "Epoch 121/200\n",
      "6/6 [==============================] - 3s 505ms/step - loss: 3.0860 - val_loss: 3.5193 - lr: 0.0010\n",
      "Epoch 122/200\n",
      "6/6 [==============================] - 3s 505ms/step - loss: 3.0228 - val_loss: 3.7427 - lr: 0.0010\n",
      "Epoch 123/200\n",
      "6/6 [==============================] - 3s 543ms/step - loss: 3.1009 - val_loss: 3.2072 - lr: 0.0010\n",
      "Epoch 124/200\n",
      "6/6 [==============================] - 3s 538ms/step - loss: 3.0948 - val_loss: 3.1808 - lr: 0.0010\n",
      "Epoch 125/200\n",
      "6/6 [==============================] - 3s 505ms/step - loss: 2.9517 - val_loss: 3.4629 - lr: 0.0010\n",
      "Epoch 126/200\n",
      "6/6 [==============================] - 3s 505ms/step - loss: 3.0991 - val_loss: 3.3705 - lr: 0.0010\n",
      "Epoch 127/200\n",
      "6/6 [==============================] - 3s 505ms/step - loss: 3.1039 - val_loss: 3.2434 - lr: 0.0010\n",
      "Epoch 128/200\n",
      "6/6 [==============================] - 3s 505ms/step - loss: 3.0360 - val_loss: 3.2860 - lr: 0.0010\n",
      "Epoch 129/200\n",
      "6/6 [==============================] - 3s 505ms/step - loss: 3.0563 - val_loss: 3.7104 - lr: 0.0010\n",
      "Epoch 130/200\n",
      "6/6 [==============================] - 3s 505ms/step - loss: 3.0063 - val_loss: 3.2041 - lr: 0.0010\n",
      "Epoch 131/200\n",
      "6/6 [==============================] - 3s 505ms/step - loss: 3.0190 - val_loss: 3.3496 - lr: 0.0010\n",
      "Epoch 132/200\n",
      "6/6 [==============================] - 3s 505ms/step - loss: 2.9765 - val_loss: 3.4229 - lr: 0.0010\n",
      "Epoch 133/200\n",
      "6/6 [==============================] - 3s 541ms/step - loss: 3.0421 - val_loss: 3.1608 - lr: 0.0010\n",
      "Epoch 134/200\n",
      "6/6 [==============================] - 3s 506ms/step - loss: 2.9840 - val_loss: 3.1732 - lr: 0.0010\n",
      "Epoch 135/200\n",
      "6/6 [==============================] - 3s 504ms/step - loss: 3.0080 - val_loss: 3.2671 - lr: 0.0010\n",
      "Epoch 136/200\n",
      "6/6 [==============================] - 3s 539ms/step - loss: 2.9882 - val_loss: 3.0966 - lr: 0.0010\n",
      "Epoch 137/200\n",
      "6/6 [==============================] - 3s 505ms/step - loss: 2.9439 - val_loss: 3.1631 - lr: 0.0010\n",
      "Epoch 138/200\n",
      "6/6 [==============================] - 3s 538ms/step - loss: 3.0033 - val_loss: 2.9814 - lr: 0.0010\n",
      "Epoch 139/200\n",
      "6/6 [==============================] - 3s 506ms/step - loss: 3.0259 - val_loss: 3.0422 - lr: 0.0010\n",
      "Epoch 140/200\n",
      "6/6 [==============================] - 3s 505ms/step - loss: 3.0268 - val_loss: 3.2218 - lr: 0.0010\n",
      "Epoch 141/200\n",
      "6/6 [==============================] - 3s 505ms/step - loss: 3.0255 - val_loss: 3.1368 - lr: 0.0010\n",
      "Epoch 142/200\n",
      "6/6 [==============================] - 3s 505ms/step - loss: 2.9680 - val_loss: 3.2046 - lr: 0.0010\n",
      "Epoch 143/200\n",
      "6/6 [==============================] - 3s 506ms/step - loss: 2.8507 - val_loss: 3.3640 - lr: 0.0010\n",
      "Epoch 144/200\n",
      "6/6 [==============================] - 3s 505ms/step - loss: 2.9687 - val_loss: 3.1092 - lr: 0.0010\n",
      "Epoch 145/200\n",
      "6/6 [==============================] - 3s 508ms/step - loss: 2.9587 - val_loss: 3.1001 - lr: 0.0010\n",
      "Epoch 146/200\n",
      "6/6 [==============================] - 3s 505ms/step - loss: 2.9880 - val_loss: 3.1769 - lr: 0.0010\n",
      "Epoch 147/200\n",
      "6/6 [==============================] - 3s 505ms/step - loss: 2.9434 - val_loss: 3.0674 - lr: 0.0010\n",
      "Epoch 148/200\n",
      "6/6 [==============================] - ETA: 0s - loss: 2.9905\n",
      "Epoch 148: ReduceLROnPlateau reducing learning rate to 0.00010000000474974513.\n",
      "6/6 [==============================] - 3s 506ms/step - loss: 2.9905 - val_loss: 3.2812 - lr: 0.0010\n",
      "Epoch 149/200\n",
      "6/6 [==============================] - 3s 504ms/step - loss: 2.9134 - val_loss: 3.2763 - lr: 1.0000e-04\n",
      "Epoch 150/200\n",
      "6/6 [==============================] - 3s 538ms/step - loss: 2.9656 - val_loss: 2.9079 - lr: 1.0000e-04\n",
      "Epoch 151/200\n",
      "6/6 [==============================] - 3s 504ms/step - loss: 2.9028 - val_loss: 2.9690 - lr: 1.0000e-04\n",
      "Epoch 152/200\n",
      "6/6 [==============================] - 3s 504ms/step - loss: 2.8777 - val_loss: 3.1316 - lr: 1.0000e-04\n",
      "Epoch 153/200\n",
      "6/6 [==============================] - 3s 505ms/step - loss: 2.8556 - val_loss: 3.1025 - lr: 1.0000e-04\n",
      "Epoch 154/200\n",
      "6/6 [==============================] - 3s 505ms/step - loss: 2.8142 - val_loss: 3.2279 - lr: 1.0000e-04\n",
      "Epoch 155/200\n",
      "6/6 [==============================] - 3s 537ms/step - loss: 2.8609 - val_loss: 2.8947 - lr: 1.0000e-04\n",
      "Epoch 156/200\n",
      "6/6 [==============================] - 3s 505ms/step - loss: 2.9025 - val_loss: 3.1046 - lr: 1.0000e-04\n",
      "Epoch 157/200\n",
      "6/6 [==============================] - 3s 504ms/step - loss: 2.8326 - val_loss: 2.9413 - lr: 1.0000e-04\n",
      "Epoch 158/200\n",
      "6/6 [==============================] - 3s 537ms/step - loss: 2.9147 - val_loss: 2.8026 - lr: 1.0000e-04\n",
      "Epoch 159/200\n",
      "6/6 [==============================] - 3s 504ms/step - loss: 2.7286 - val_loss: 2.8383 - lr: 1.0000e-04\n",
      "Epoch 160/200\n",
      "6/6 [==============================] - 3s 506ms/step - loss: 2.8930 - val_loss: 2.9550 - lr: 1.0000e-04\n",
      "Epoch 161/200\n",
      "6/6 [==============================] - 3s 505ms/step - loss: 2.8927 - val_loss: 2.9659 - lr: 1.0000e-04\n",
      "Epoch 162/200\n",
      "6/6 [==============================] - 3s 505ms/step - loss: 2.8599 - val_loss: 2.8823 - lr: 1.0000e-04\n",
      "Epoch 163/200\n",
      "6/6 [==============================] - 3s 505ms/step - loss: 2.8736 - val_loss: 2.9887 - lr: 1.0000e-04\n",
      "Epoch 164/200\n",
      "6/6 [==============================] - 3s 505ms/step - loss: 2.8860 - val_loss: 2.9318 - lr: 1.0000e-04\n",
      "Epoch 165/200\n",
      "6/6 [==============================] - 3s 538ms/step - loss: 2.8341 - val_loss: 2.7610 - lr: 1.0000e-04\n",
      "Epoch 166/200\n",
      "6/6 [==============================] - 3s 505ms/step - loss: 2.8356 - val_loss: 3.1841 - lr: 1.0000e-04\n",
      "Epoch 167/200\n",
      "6/6 [==============================] - 3s 508ms/step - loss: 2.8655 - val_loss: 2.9288 - lr: 1.0000e-04\n",
      "Epoch 168/200\n",
      "6/6 [==============================] - 3s 505ms/step - loss: 2.8496 - val_loss: 2.8013 - lr: 1.0000e-04\n",
      "Epoch 169/200\n",
      "6/6 [==============================] - 3s 537ms/step - loss: 2.8301 - val_loss: 2.7251 - lr: 1.0000e-04\n",
      "Epoch 170/200\n",
      "6/6 [==============================] - 3s 505ms/step - loss: 2.8513 - val_loss: 2.7627 - lr: 1.0000e-04\n",
      "Epoch 171/200\n",
      "6/6 [==============================] - 3s 505ms/step - loss: 2.8441 - val_loss: 2.9603 - lr: 1.0000e-04\n",
      "Epoch 172/200\n",
      "6/6 [==============================] - 3s 505ms/step - loss: 2.8561 - val_loss: 2.9888 - lr: 1.0000e-04\n",
      "Epoch 173/200\n",
      "6/6 [==============================] - 3s 504ms/step - loss: 2.7956 - val_loss: 2.8131 - lr: 1.0000e-04\n",
      "Epoch 174/200\n",
      "6/6 [==============================] - 3s 505ms/step - loss: 2.8530 - val_loss: 2.7326 - lr: 1.0000e-04\n",
      "Epoch 175/200\n",
      "6/6 [==============================] - 3s 505ms/step - loss: 2.8248 - val_loss: 2.8754 - lr: 1.0000e-04\n",
      "Epoch 176/200\n",
      "6/6 [==============================] - 3s 505ms/step - loss: 2.8210 - val_loss: 2.7974 - lr: 1.0000e-04\n",
      "Epoch 177/200\n",
      "6/6 [==============================] - 3s 504ms/step - loss: 2.8055 - val_loss: 2.9100 - lr: 1.0000e-04\n",
      "Epoch 178/200\n",
      "6/6 [==============================] - 3s 504ms/step - loss: 2.8302 - val_loss: 2.7663 - lr: 1.0000e-04\n",
      "Epoch 179/200\n",
      "6/6 [==============================] - ETA: 0s - loss: 2.8567\n",
      "Epoch 179: ReduceLROnPlateau reducing learning rate to 1.0000000474974514e-05.\n",
      "6/6 [==============================] - 3s 505ms/step - loss: 2.8567 - val_loss: 2.8636 - lr: 1.0000e-04\n",
      "Epoch 180/200\n",
      "6/6 [==============================] - 3s 505ms/step - loss: 2.8093 - val_loss: 2.9323 - lr: 1.0000e-05\n",
      "Epoch 181/200\n",
      "6/6 [==============================] - 3s 505ms/step - loss: 2.8294 - val_loss: 2.8243 - lr: 1.0000e-05\n",
      "Epoch 182/200\n",
      "6/6 [==============================] - 3s 505ms/step - loss: 2.8877 - val_loss: 2.8726 - lr: 1.0000e-05\n",
      "Epoch 183/200\n",
      "6/6 [==============================] - 3s 505ms/step - loss: 2.7692 - val_loss: 2.8902 - lr: 1.0000e-05\n",
      "Epoch 184/200\n",
      "6/6 [==============================] - 3s 504ms/step - loss: 2.8479 - val_loss: 2.8092 - lr: 1.0000e-05\n",
      "Epoch 185/200\n",
      "6/6 [==============================] - 3s 504ms/step - loss: 2.7869 - val_loss: 2.7614 - lr: 1.0000e-05\n",
      "Epoch 186/200\n",
      "6/6 [==============================] - 3s 505ms/step - loss: 2.8830 - val_loss: 3.0346 - lr: 1.0000e-05\n",
      "Epoch 187/200\n",
      "6/6 [==============================] - 3s 505ms/step - loss: 2.7569 - val_loss: 2.9919 - lr: 1.0000e-05\n",
      "Epoch 188/200\n",
      "6/6 [==============================] - 3s 505ms/step - loss: 2.8793 - val_loss: 2.8918 - lr: 1.0000e-05\n",
      "Epoch 189/200\n",
      "6/6 [==============================] - ETA: 0s - loss: 2.8311\n",
      "Epoch 189: ReduceLROnPlateau reducing learning rate to 1.0000000656873453e-06.\n",
      "6/6 [==============================] - 3s 507ms/step - loss: 2.8311 - val_loss: 2.8104 - lr: 1.0000e-05\n"
     ]
    }
   ],
   "source": [
    "import importlib\n",
    "importlib.reload(ABCNet)\n",
    "inputs,outputs = ABCNet.ABCNet(npoint=NPART,nfeat=dataset_config['SHAPE'][2])\n",
    "model = Model(inputs=inputs,outputs=outputs)\n",
    "opt = keras.optimizers.Adam(learning_rate=LR)\n",
    "opt = hvd.DistributedOptimizer(\n",
    "    opt, average_aggregated_gradients=True)\n",
    "model.compile(loss=ABCNet.SWD,\n",
    "              optimizer=opt,experimental_run_tf_function=False)\n",
    "    \n",
    "callbacks = [\n",
    "    hvd.callbacks.BroadcastGlobalVariablesCallback(0),\n",
    "    hvd.callbacks.MetricAverageCallback(),            \n",
    "    ReduceLROnPlateau(patience=10, \n",
    "                      min_lr=1e-8,verbose=hvd.rank()==0),\n",
    "    EarlyStopping(patience=EARLY_STOP,restore_best_weights=True),\n",
    "    ]\n",
    "\n",
    "if hvd.rank()==0:\n",
    "    checkpoint = ModelCheckpoint(checkpoint_folder,save_best_only=True,mode='auto',\n",
    "                                 period=1,save_weights_only=True)\n",
    "        \n",
    "    callbacks.append(checkpoint)\n",
    "    print(model.summary())\n",
    "    \n",
    "load=False\n",
    "\n",
    "if load:\n",
    "    model.load_weights(checkpoint_folder)\n",
    "else:\n",
    "    history = model.fit(\n",
    "        train_data.batch(BATCH_SIZE),\n",
    "        epochs=NUM_EPOCHS,\n",
    "        steps_per_epoch=int(data_size*frac/BATCH_SIZE),\n",
    "        # steps_per_epoch=1,\n",
    "        validation_data=test_data.batch(BATCH_SIZE),\n",
    "        validation_steps=int(data_size*(1-frac)/BATCH_SIZE),\n",
    "        verbose=1 if hvd.rank()==0 else 0,\n",
    "        callbacks=callbacks\n",
    "    )"
   ]
  },
  {
   "cell_type": "markdown",
   "id": "77e278d9-eb7a-4810-a7b3-3389728f65c1",
   "metadata": {},
   "source": [
    "## Step 4: Results"
   ]
  },
  {
   "cell_type": "code",
   "execution_count": 146,
   "id": "a961c58d-83ee-4d57-9635-9ef4be85ac29",
   "metadata": {
    "tags": []
   },
   "outputs": [
    {
     "data": {
      "image/png": "[encoded data removed]",
      "text/plain": [
       "<Figure size 640x480 with 1 Axes>"
      ]
     },
     "metadata": {},
     "output_type": "display_data"
    }
   ],
   "source": [
    "plt.plot(history.history['loss'], label='loss')\n",
    "plt.plot(history.history['val_loss'], label='val_loss', linestyle='dashed')\n",
    "plt.yscale('log')\n",
    "plt.legend()\n",
    "plt.show()"
   ]
  },
  {
   "cell_type": "markdown",
   "id": "2b1feadf-0725-435a-92b5-66b632c42bb1",
   "metadata": {},
   "source": [
    "Question: How would you interpret the loss curves? / Is this overtraining?"
   ]
  },
  {
   "cell_type": "markdown",
   "id": "efe59f4a-1db2-44df-a7c0-af95d6e63dc1",
   "metadata": {},
   "source": [
    "Answer: Starting with the second question, this is not overtraining as the validation loss is not increasing in the later epochs. As for the overall comparison between the loss and validation loss curves, the initially high validation loss and low loss indicates the model quickly learns specific aspects of the current data slice, but struggles to generalize. In later epochs, the validation loss approaches the same scale as the loss, indicating improved generalization."
   ]
  },
  {
   "cell_type": "markdown",
   "id": "0130adba-009a-456e-8ea5-3353a3896515",
   "metadata": {},
   "source": [
    "With our model now trained, we can now remake the plots from Step 1 to compare TOTAL to PUPPI and SK."
   ]
  },
  {
   "cell_type": "code",
   "execution_count": 147,
   "id": "5f889206-8fa1-498c-9e20-b2dca4b6b0b5",
   "metadata": {
    "tags": []
   },
   "outputs": [
    {
     "name": "stdout",
     "output_type": "stream",
     "text": [
      "10/10 [==============================] - 2s 145ms/step\n"
     ]
    }
   ],
   "source": [
    "import importlib\n",
    "importlib.reload(utils)\n",
    "data,nopu,jet_info,vertex_truth = utils.preprocessing(os.path.join('/global/cfs/cdirs/ntrain1/ot_tutorial',dataset_config['FILES']),test_mu,nparts=NPART)\n",
    "\n",
    "total_w_test = model.predict(data,batch_size=200)\n",
    "puppi_w_test = np.expand_dims(data[:,:,4],-1)\n",
    "sk_w_test = np.expand_dims(data[:,:,5],-1)\n",
    "\n",
    "data = utils.convert_preprocessing(data) # Undo data preprocessing to calculate jet resolution\n",
    "nopu = utils.convert_preprocessing(nopu)\n",
    "\n",
    "pt_test = np.expand_dims(data[:,:,2],-1)"
   ]
  },
  {
   "cell_type": "code",
   "execution_count": 148,
   "id": "7706f604-df20-46ad-8967-4b61f25fa2c3",
   "metadata": {},
   "outputs": [
    {
     "data": {
      "image/png": "[encoded data removed]",
      "text/plain": [
       "<Figure size 640x480 with 1 Axes>"
      ]
     },
     "metadata": {},
     "output_type": "display_data"
    }
   ],
   "source": [
    "binning = np.linspace(0,1,20)\n",
    "plt.hist(np.ravel(vertex_truth), bins=binning, histtype='step', density=True, label='Truth')\n",
    "plt.hist(np.ravel(puppi_w_test), bins=binning, histtype='step', density=True, label='PUPPI')\n",
    "plt.hist(np.ravel(sk_w_test), bins=binning, histtype='step', density=True, label='SK')\n",
    "plt.hist(np.ravel(total_w_test), bins=binning, histtype='step', density=True, label='TOTAL')\n",
    "\n",
    "plt.yscale('log')\n",
    "plt.legend()\n",
    "plt.xlabel('Weights')\n",
    "plt.show()"
   ]
  },
  {
   "cell_type": "code",
   "execution_count": 149,
   "id": "330a8ec7-e59c-4e3b-82be-519b9035a86d",
   "metadata": {
    "tags": []
   },
   "outputs": [],
   "source": [
    "# Each event is zero-padded so we can reweight the predicted scores to account for this\n",
    "pt_mod_test = [1e-10 if x==0 else x for x in np.ravel(pt_test)]\n",
    "auc_test = {}\n",
    "fpr_test = {}\n",
    "tpr_test = {}\n",
    "\n",
    "auc_test['total'] = roc_auc_score((np.ravel(vertex_truth)==0).astype(int), np.ravel(total_w_test))\n",
    "fpr_test['total'],tpr_test['total'],_ = roc_curve((np.ravel(vertex_truth)==0).astype(int), np.ravel(total_w_test))\n",
    "\n",
    "auc_test['puppi'] = roc_auc_score((np.ravel(vertex_truth)==0).astype(int), np.ravel(puppi_w_test), sample_weight=pt_mod_test)\n",
    "fpr_test['puppi'],tpr_test['puppi'],_ = roc_curve((np.ravel(vertex_truth)==0).astype(int), np.ravel(puppi_w_test), sample_weight=pt_mod_test)\n",
    "\n",
    "auc_test['sk'] = roc_auc_score((np.ravel(vertex_truth)==0).astype(int), np.ravel(sk_w_test), sample_weight=pt_mod_test)\n",
    "fpr_test['sk'],tpr_test['sk'],_ = roc_curve((np.ravel(vertex_truth)==0).astype(int), np.ravel(sk_w_test), sample_weight=pt_mod_test)"
   ]
  },
  {
   "cell_type": "code",
   "execution_count": 150,
   "id": "4cc5b94a-9f33-481d-932a-7acf66eddc87",
   "metadata": {
    "tags": []
   },
   "outputs": [
    {
     "data": {
      "text/plain": [
       "<matplotlib.legend.Legend at 0x7fc788a9b040>"
      ]
     },
     "execution_count": 150,
     "metadata": {},
     "output_type": "execute_result"
    },
    {
     "data": {
      "image/png": "[encoded data removed]",
      "text/plain": [
       "<Figure size 640x480 with 1 Axes>"
      ]
     },
     "metadata": {},
     "output_type": "display_data"
    }
   ],
   "source": [
    "plt.plot(fpr_test['total'], tpr_test['total'],label='TOTAL'+\" AUC=\"+str(np.round(auc_test['total'],3)))\n",
    "plt.plot(fpr_test['puppi'], tpr_test['puppi'],label='PUPPI'+\" AUC=\"+str(np.round(auc_test['puppi'],3)))\n",
    "plt.plot(fpr_test['sk'], tpr_test['sk'],label='SK'+\" AUC=\"+str(np.round(auc_test['sk'],3)))\n",
    "plt.xlabel('FPR')\n",
    "plt.ylabel('TPR')\n",
    "plt.yscale('log')\n",
    "plt.legend()"
   ]
  },
  {
   "cell_type": "markdown",
   "id": "f00ef9ea-3c4e-4011-af1e-c188bf871f87",
   "metadata": {
    "tags": []
   },
   "source": [
    "### Jet $p_T$ Resolution"
   ]
  },
  {
   "cell_type": "markdown",
   "id": "50556a52-4c7e-401d-8fbc-b1c87b204f73",
   "metadata": {},
   "source": [
    "Just as with the weights, the ROC curves provide an incomplete picture as to the true efficacy of these algorithms. In the real world, the efficiency in recovering the true weights is secondary to the accurate reconstruction of important physical observables. One such observable is the $p_T$ resolution of jet objects. Jets are cones of particles produced by the hadronization of quarks and gluons. Since quarks and gluons are not directly observable, we infer their existence from jets, which is why having accurate measurements free of pileup impact is crucial."
   ]
  },
  {
   "cell_type": "code",
   "execution_count": 151,
   "id": "aaa1260e-d5f1-4c82-867f-b8633375f5aa",
   "metadata": {
    "tags": []
   },
   "outputs": [
    {
     "data": {
      "text/plain": [
       "(array([ 39.,  28.,  64.,  61.,  54., 105., 107., 126.,  99., 140., 156.,\n",
       "        168., 170., 174., 147., 103.,  82.,  47.,  37.]),\n",
       " array([100., 110., 120., 130., 140., 150., 160., 170., 180., 190., 200.,\n",
       "        210., 220., 230., 240., 250., 260., 270., 280., 290.]),\n",
       " <BarContainer object of 19 artists>)"
      ]
     },
     "execution_count": 151,
     "metadata": {},
     "output_type": "execute_result"
    },
    {
     "data": {
      "image/png": "[encoded data removed]",
      "text/plain": [
       "<Figure size 640x480 with 1 Axes>"
      ]
     },
     "metadata": {},
     "output_type": "display_data"
    }
   ],
   "source": [
    "#Look only at the leading jet for simplicity\n",
    "mask_jet1 = jet_info==0\n",
    "px,py,pz=utils.convert_coordinate(nopu[:,:,:4],mask_jet1)\n",
    "\n",
    "jet_pt_truth = np.sum(np.sqrt(px**2+py**2),1)[:,0]\n",
    "plt.hist(jet_pt_truth,bins=np.arange(100, 300, 10))"
   ]
  },
  {
   "cell_type": "code",
   "execution_count": 152,
   "id": "19753ea5-0590-457f-b25e-34f3410203e1",
   "metadata": {
    "tags": []
   },
   "outputs": [],
   "source": [
    "px,py,pz=utils.convert_coordinate(data[:,:,:4],mask_jet1)\n",
    "jet_pt_total = np.sum(np.sqrt(px**2+py**2)*(total_w_test),1)[:,0]\n",
    "jet_pt_puppi = np.sum(np.sqrt(px**2+py**2)*(puppi_w_test),1)[:,0]\n",
    "jet_pt_sk = np.sum(np.sqrt(px**2+py**2)*(sk_w_test),1)[:,0]\n",
    "\n",
    "res_total = 100*(jet_pt_truth-jet_pt_total)/jet_pt_truth\n",
    "res_puppi = 100*(jet_pt_truth-jet_pt_puppi)/jet_pt_truth\n",
    "res_sk = 100*(jet_pt_truth-jet_pt_sk)/jet_pt_truth"
   ]
  },
  {
   "cell_type": "code",
   "execution_count": 153,
   "id": "380b2dd4-645a-4499-a0d3-7190146d354b",
   "metadata": {
    "tags": []
   },
   "outputs": [
    {
     "data": {
      "image/png": "[encoded data removed]",
      "text/plain": [
       "<Figure size 900x900 with 1 Axes>"
      ]
     },
     "metadata": {},
     "output_type": "display_data"
    }
   ],
   "source": [
    "import importlib\n",
    "importlib.reload(utils)\n",
    "binning = np.linspace(-10,10,20)\n",
    "# binning = np.linspace(-100,10,20)\n",
    "\n",
    "label_names = {\n",
    "        'puppi': 'PUPPI',\n",
    "        'sk': 'SK',\n",
    "        'abc': 'TOTAL',\n",
    "        # 'reco': 'Data'\n",
    "}\n",
    "feed_dict = {\n",
    "        'puppi': res_puppi,\n",
    "        'sk': res_sk,\n",
    "        'abc': res_total,\n",
    "        # 'reco': res_reco,\n",
    "}\n",
    "\n",
    "fig,ax0 = utils.HistRoutine(feed_dict,xlabel=r'Percent jet $p_T$ resolution',\n",
    "                            ylabel= 'Normalized entries',plot_ratio=False,binning=binning,\n",
    "                            label_names=label_names)"
   ]
  },
  {
   "cell_type": "markdown",
   "id": "33b05ded-5714-4bbf-85d1-5f3a34a0adab",
   "metadata": {},
   "source": [
    "If you are curious to see how far any of these algorithms has positively affected the resolution calculation, take a look at the comparison with the original calculation on the data before any pileup subtraction is done."
   ]
  },
  {
   "cell_type": "markdown",
   "id": "d8b1d897-96b8-48e0-b49d-58d8673b7a42",
   "metadata": {},
   "source": [
    "Note: In comparing SK and PUPPI, we should note the bias evident in the results by PUPPI manifest in a negative percent jet $p_T$ resolution. PUPPI, albeit also a rule-based approach, is more complex than SK and requires extensive tuning. Thus, we see another positive to using TOTAL that being a recovery of an unbiased resolution without any additional tuning.\n",
    "\n",
    "Question: How could we tune the PUPPI results to be more unbiased using our setup?"
   ]
  },
  {
   "cell_type": "markdown",
   "id": "014e8099-24b7-4920-888e-634c2953cd12",
   "metadata": {},
   "source": [
    "Answer: We can set a threshold on the PUPPI weights setting weights above the threshold to 1. The implication is that the fuzzy or non-binary outputs require further optimization beyond the original configuration unlike TOTAL, which has shown it can do both in one go."
   ]
  },
  {
   "cell_type": "markdown",
   "id": "80a2e878-9152-41fe-850b-927dbacf13c7",
   "metadata": {},
   "source": [
    "## Step 5: $\\mu$ Dependency Exercise"
   ]
  },
  {
   "cell_type": "code",
   "execution_count": 154,
   "id": "ac39ad70-f05b-4eea-8837-75b31034752e",
   "metadata": {},
   "outputs": [
    {
     "name": "stdout",
     "output_type": "stream",
     "text": [
      "10/10 [==============================] - 1s 144ms/step\n",
      "10/10 [==============================] - 1s 143ms/step\n",
      "10/10 [==============================] - 1s 143ms/step\n",
      "10/10 [==============================] - 1s 143ms/step\n",
      "10/10 [==============================] - 1s 143ms/step\n",
      "10/10 [==============================] - 1s 144ms/step\n",
      "10/10 [==============================] - 1s 143ms/step\n",
      "10/10 [==============================] - 1s 144ms/step\n",
      "10/10 [==============================] - 1s 144ms/step\n",
      "10/10 [==============================] - 1s 144ms/step\n",
      "10/10 [==============================] - 1s 144ms/step\n",
      "10/10 [==============================] - 1s 144ms/step\n",
      "10/10 [==============================] - 1s 144ms/step\n",
      "10/10 [==============================] - 1s 144ms/step\n",
      "10/10 [==============================] - 1s 144ms/step\n",
      "10/10 [==============================] - 1s 144ms/step\n",
      "10/10 [==============================] - 1s 144ms/step\n"
     ]
    }
   ],
   "source": [
    "jetpT_res = {}\n",
    "jetpT_res['total'] = []\n",
    "jetpT_res['puppi'] = []\n",
    "jetpT_res['sk'] = []\n",
    "mu_arr = []\n",
    "\n",
    "for mu in range(0, 170, 10):\n",
    "    mu_arr.append(mu)\n",
    "    \n",
    "    data,nopu,jet_info,vertex_truth = utils.preprocessing(os.path.join('/global/cfs/cdirs/ntrain1/ot_tutorial',dataset_config['FILES']),mu,nparts=NPART)\n",
    "    total_w_test = model.predict(data,batch_size=200)\n",
    "    puppi_w_test = np.expand_dims(data[:,:,4],-1)\n",
    "    sk_w_test = np.expand_dims(data[:,:,5],-1)\n",
    "    \n",
    "    data = utils.convert_preprocessing(data) # Undo data preprocessing to calculate jet resolution\n",
    "    nopu = utils.convert_preprocessing(nopu)\n",
    "    \n",
    "    mask_jet1 = jet_info==0\n",
    "    px,py,pz=utils.convert_coordinate(nopu[:,:,:4],mask_jet1)\n",
    "    jet_pt_truth = np.sum(np.sqrt(px**2+py**2),1)[:,0]\n",
    "    \n",
    "    px,py,pz=utils.convert_coordinate(data[:,:,:4],mask_jet1)\n",
    "    jet_pt_total = np.sum(np.sqrt(px**2+py**2)*(total_w_test),1)[:,0]\n",
    "    jet_pt_puppi = np.sum(np.sqrt(px**2+py**2)*(puppi_w_test),1)[:,0]\n",
    "    jet_pt_sk = np.sum(np.sqrt(px**2+py**2)*(sk_w_test),1)[:,0]\n",
    "\n",
    "    res_total = 100*(jet_pt_truth-jet_pt_total)/jet_pt_truth\n",
    "    res_puppi = 100*(jet_pt_truth-jet_pt_puppi)/jet_pt_truth\n",
    "    res_sk = 100*(jet_pt_truth-jet_pt_sk)/jet_pt_truth\n",
    "\n",
    "    jetpT_res['total'].append(res_total)\n",
    "    jetpT_res['puppi'].append(res_puppi)\n",
    "    jetpT_res['sk'].append(res_sk)"
   ]
  },
  {
   "cell_type": "code",
   "execution_count": 156,
   "id": "146a1b5c-c889-4d81-9cc9-ecf5285416f8",
   "metadata": {
    "tags": []
   },
   "outputs": [
    {
     "data": {
      "image/png": "[encoded data removed]",
      "text/plain": [
       "<Figure size 640x480 with 1 Axes>"
      ]
     },
     "metadata": {},
     "output_type": "display_data"
    }
   ],
   "source": [
    "plt.plot(mu_arr, np.mean(jetpT_res['total'],axis=1), label='TOTAL')\n",
    "plt.plot(mu_arr, np.mean(jetpT_res['puppi'],axis=1), label='PUPPI')\n",
    "plt.plot(mu_arr, np.mean(jetpT_res['sk'],axis=1), label='SK')\n",
    "plt.xlabel(r'$\\mu$')\n",
    "plt.ylabel(r'Mean Percent jet $p_T$ resolution')\n",
    "plt.legend()\n",
    "plt.show()"
   ]
  },
  {
   "cell_type": "markdown",
   "id": "40ae9f50-f0c4-4fa2-ba23-f722d0d1d725",
   "metadata": {},
   "source": [
    "Question: Why is the mean of the percent jet $p_T$ resolution not a perfect metric to evaluate model performance?"
   ]
  },
  {
   "cell_type": "markdown",
   "id": "5f135786-9653-4734-a44e-a20072e5f2c1",
   "metadata": {},
   "source": [
    "Answer: The mean only provides information on the centralization bias of the model and not in the width of the peak or the size of the tails. Thus, IQR is a more apt metric."
   ]
  },
  {
   "cell_type": "markdown",
   "id": "646d3b41-620a-4e81-8a22-db3d2e78266a",
   "metadata": {},
   "source": [
    "## Step 6: Further Studies"
   ]
  },
  {
   "cell_type": "markdown",
   "id": "e3e7aca1-73cb-49f2-8ab1-6ce500804dd6",
   "metadata": {},
   "source": [
    "Now that you understand the basic structure of TOTAL, try playing around with some of the model's (hyper)parameters to improve the performance. To get you started, I have listed out a few potential avenues to pursue:\n",
    "\n",
    "- Determine the impact of shifting the training mu value or even expanding the training set to multiple mu values\n",
    "- Test the importance of the key model parameters such as the number of projections on the model results\n",
    "- Check if any additional features used in the training could boost the model performance\n",
    "- See what happens when the output layer is changed from hard_sigmoid to sigmoid\n",
    "\n",
    "Other extensions:\n",
    "- Quantify the accuracy of reconstructing resolutions by calculating their IQR\n",
    "- Change the training dataset from the one which sets $\\mu$ to the one that sets the mass of the scalar"
   ]
  },
  {
   "cell_type": "code",
   "execution_count": null,
   "id": "381d373c-463f-4b19-bfb4-44195d8af23b",
   "metadata": {},
   "outputs": [],
   "source": []
  }
 ],
 "metadata": {
  "kernelspec": {
   "display_name": "tensorflow-2.9.0",
   "language": "python",
   "name": "tensorflow-2.9.0"
  },
  "language_info": {
   "codemirror_mode": {
    "name": "ipython",
    "version": 3
   },
   "file_extension": ".py",
   "mimetype": "text/x-python",
   "name": "python",
   "nbconvert_exporter": "python",
   "pygments_lexer": "ipython3",
   "version": "3.9.19"
  }
 },
 "nbformat": 4,
 "nbformat_minor": 5
}
